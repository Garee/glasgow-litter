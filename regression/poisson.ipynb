{
 "cells": [
  {
   "cell_type": "code",
   "execution_count": 1,
   "metadata": {},
   "outputs": [],
   "source": [
    "import pandas as pd\n",
    "\n",
    "data_fpath = \"../glasgow-simd2020v2.csv\"\n",
    "df = pd.read_csv(data_fpath, header=0)"
   ]
  },
  {
   "cell_type": "code",
   "execution_count": null,
   "metadata": {},
   "outputs": [],
   "source": [
    "# Handle missing data\n",
    "# Check feature data types etc."
   ]
  },
  {
   "cell_type": "code",
   "execution_count": 4,
   "metadata": {},
   "outputs": [
    {
     "name": "stdout",
     "output_type": "stream",
     "text": [
      "Training data: 522 observations\n",
      "Validation data: 149 observations\n",
      "Test data: 75 observations\n"
     ]
    }
   ],
   "source": [
    "import numpy as np\n",
    "\n",
    "\n",
    "df_train, df_valid, df_test = np.split(df.sample(frac=1, random_state=1), [int(.7*len(df)), int(.9*len(df))])\n",
    "\n",
    "print(\"Training data: {} observations\".format(len(df_train)))\n",
    "print(\"Validation data: {} observations\".format(len(df_valid)))\n",
    "print(\"Test data: {} observations\".format(len(df_test)))"
   ]
  },
  {
   "cell_type": "code",
   "execution_count": 25,
   "metadata": {},
   "outputs": [
    {
     "name": "stdout",
     "output_type": "stream",
     "text": [
      "                 Generalized Linear Model Regression Results                  \n",
      "==============================================================================\n",
      "Dep. Variable:                 litter   No. Observations:                  521\n",
      "Model:                            GLM   Df Residuals:                      510\n",
      "Model Family:                 Poisson   Df Model:                           10\n",
      "Link Function:                    Log   Scale:                          1.0000\n",
      "Method:                          IRLS   Log-Likelihood:                -898.83\n",
      "Date:                Mon, 27 Dec 2021   Deviance:                       1041.5\n",
      "Time:                        23:23:04   Pearson chi2:                 1.15e+03\n",
      "No. Iterations:                     5   Pseudo R-squ. (CS):            0.06995\n",
      "Covariance Type:            nonrobust                                         \n",
      "==========================================================================================\n",
      "                             coef    std err          z      P>|z|      [0.025      0.975]\n",
      "------------------------------------------------------------------------------------------\n",
      "Intercept                 -0.4610      0.164     -2.820      0.005      -0.782      -0.141\n",
      "income_count               0.0006      0.001      0.411      0.681      -0.002       0.004\n",
      "employment_count          -0.0025      0.003     -0.882      0.378      -0.008       0.003\n",
      "CIF                        0.0002      0.002      0.096      0.923      -0.003       0.003\n",
      "ALCOHOL                    0.0002      0.000      0.325      0.745      -0.001       0.001\n",
      "DRUG                      -0.0001      0.000     -0.316      0.752      -0.001       0.001\n",
      "SMR                       -0.0002      0.001     -0.206      0.836      -0.002       0.001\n",
      "EMERG                      0.0028      0.002      1.383      0.167      -0.001       0.007\n",
      "no_qualifications          0.0016      0.001      1.227      0.220      -0.001       0.004\n",
      "overcrowded_count          0.0014      0.001      2.129      0.033       0.000       0.003\n",
      "nocentralheating_count    -0.0010      0.002     -0.517      0.605      -0.005       0.003\n",
      "==========================================================================================\n"
     ]
    }
   ],
   "source": [
    "from patsy import dmatrices\n",
    "import statsmodels.api as sm\n",
    "\n",
    "model_expr = \"litter ~ income_count + employment_count + CIF + ALCOHOL + DRUG + SMR + EMERG + no_qualifications + overcrowded_count + nocentralheating_count \"\n",
    "\n",
    "y_train, X_train = dmatrices(model_expr, df_train, return_type=\"dataframe\")\n",
    "y_valid, X_valid = dmatrices(model_expr, df_valid, return_type=\"dataframe\")\n",
    "\n",
    "model_train = sm.GLM(y_train, X_train, family=sm.families.Poisson())\n",
    "results_train = model_train.fit()\n",
    "\n",
    "print(results_train.summary())"
   ]
  },
  {
   "cell_type": "code",
   "execution_count": 30,
   "metadata": {},
   "outputs": [
    {
     "name": "stdout",
     "output_type": "stream",
     "text": [
      "         mean   mean_se  mean_ci_lower  mean_ci_upper\n",
      "326  1.421427  0.128802       1.190126       1.697681\n",
      "458  1.346006  0.189682       1.021160       1.774189\n",
      "465  1.541695  0.197677       1.199104       1.982166\n",
      "163  0.925958  0.081550       0.779158       1.100417\n",
      "167  0.903972  0.087041       0.748505       1.091729\n",
      "..        ...       ...            ...            ...\n",
      "87   1.455070  0.258040       1.027858       2.059846\n",
      "655  0.816588  0.085978       0.664325       1.003749\n",
      "678  1.310538  0.172753       1.012151       1.696890\n",
      "418  1.320959  0.115769       1.112473       1.568515\n",
      "288  1.560816  0.229979       1.169313       2.083399\n",
      "\n",
      "[148 rows x 4 columns]\n",
      "326    1.0\n",
      "458    1.0\n",
      "465    2.0\n",
      "163    1.0\n",
      "167    1.0\n",
      "      ... \n",
      "87     1.0\n",
      "655    1.0\n",
      "678    1.0\n",
      "418    1.0\n",
      "288    2.0\n",
      "Name: mean, Length: 148, dtype: float64\n",
      "326    0.0\n",
      "458    2.0\n",
      "465    2.0\n",
      "163    0.0\n",
      "167    0.0\n",
      "      ... \n",
      "87     2.0\n",
      "655    1.0\n",
      "678    0.0\n",
      "418    3.0\n",
      "288    6.0\n",
      "Name: litter, Length: 148, dtype: float64\n"
     ]
    }
   ],
   "source": [
    "predictions = results_train.get_prediction(X_valid)\n",
    "df_predictions = predictions.summary_frame()\n",
    "predicted_counts, actual_counts = round(df_predictions[\"mean\"]), y_valid[\"litter\"]\n",
    "\n",
    "print(predicted_counts)"
   ]
  },
  {
   "cell_type": "code",
   "execution_count": 31,
   "metadata": {},
   "outputs": [
    {
     "data": {
      "image/png": "[encoded data removed]",
      "text/plain": [
       "<Figure size 432x288 with 1 Axes>"
      ]
     },
     "metadata": {
      "needs_background": "light"
     },
     "output_type": "display_data"
    }
   ],
   "source": [
    "import matplotlib.pyplot as plt\n",
    "\n",
    "fig = plt.figure()\n",
    "fig.suptitle(\"Predicted vs Actual Litter Counts in Glasgow City\")\n",
    "plt.scatter(x=predicted_counts, y=actual_counts)\n",
    "plt.xlabel(\"Predicted Litter\")\n",
    "plt.ylabel(\"Actual Litter\")\n",
    "plt.show()"
   ]
  }
 ],
 "metadata": {
  "interpreter": {
   "hash": "cf27d97dcf4be97ac4b24b0958c44b40d000600328bb3db0f801b46df5aa5b85"
  },
  "kernelspec": {
   "display_name": "Python 3.9.6 64-bit ('venv': venv)",
   "language": "python",
   "name": "python3"
  },
  "language_info": {
   "codemirror_mode": {
    "name": "ipython",
    "version": 3
   },
   "file_extension": ".py",
   "mimetype": "text/x-python",
   "name": "python",
   "nbconvert_exporter": "python",
   "pygments_lexer": "ipython3",
   "version": "3.9.6"
  },
  "orig_nbformat": 4
 },
 "nbformat": 4,
 "nbformat_minor": 2
}
