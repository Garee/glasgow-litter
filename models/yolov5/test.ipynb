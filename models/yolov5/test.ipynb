{
 "cells": [
  {
   "cell_type": "markdown",
   "metadata": {},
   "source": [
    "# Test YOLOv5s Models\n",
    "\n",
    "This notebook is used to test the chosen model picked by validating in `val.ipynb`.\n",
    "\n",
    "## Configuration"
   ]
  },
  {
   "cell_type": "code",
   "execution_count": 1,
   "metadata": {},
   "outputs": [],
   "source": [
    "batch_size = 32"
   ]
  },
  {
   "cell_type": "markdown",
   "metadata": {},
   "source": [
    "## Test"
   ]
  },
  {
   "cell_type": "markdown",
   "metadata": {},
   "source": [
    "Evaluate using the chosen model weights and the test data.\n",
    "\n",
    "The confidence threshold is set to 80% and the IoU threshold is set to 60% (YOLO default).\n",
    "\n",
    "Out of 254 litter labels, 196 were detected as true positives (77%), 57 as false negatives (23%), and there were an additional 28 false positives.\n",
    "\n"
   ]
  },
  {
   "cell_type": "code",
   "execution_count": 2,
   "metadata": {},
   "outputs": [
    {
     "name": "stderr",
     "output_type": "stream",
     "text": [
      "\u001b[34m\u001b[1mval: \u001b[0mdata=cfg/mosaic-noise-x3-data.yaml, weights=['weights/chosen-model.pt'], batch_size=32, imgsz=640, conf_thres=0.001, iou_thres=0.6, task=test, device=, workers=8, single_cls=True, augment=False, verbose=True, save_txt=True, save_hybrid=False, save_conf=True, save_json=False, project=yolov5\\runs\\val, name=chosen-model, exist_ok=False, half=False, dnn=False\n",
      "git: 'Blackwood\\dev\\glasgow-litter\\models\\yolov5\\yolov5' is not a git command. See 'git --help'.\n",
      "YOLOv5  2022-3-11 torch 1.8.2+cu111 CUDA:0 (NVIDIA GeForce RTX 3060, 12288MiB)\n",
      "\n",
      "Fusing layers... \n",
      "Model Summary: 213 layers, 7012822 parameters, 0 gradients, 15.8 GFLOPs\n",
      "\n",
      "\u001b[34m\u001b[1mtest: \u001b[0mScanning 'C:\\Users\\Gary Blackwood\\dev\\glasgow-litter\\models\\yolov5\\yolov5\\..\\..\\..\\data\\models\\yolov5\\mosaic-noise-x3\\test\\labels.cache' images and labels... 122 found, 0 missing, 0 empty, 0 corrupt: 100%|██████████| 122/122 [00:00<?, ?it/s]\n",
      "\u001b[34m\u001b[1mtest: \u001b[0mScanning 'C:\\Users\\Gary Blackwood\\dev\\glasgow-litter\\models\\yolov5\\yolov5\\..\\..\\..\\data\\models\\yolov5\\mosaic-noise-x3\\test\\labels.cache' images and labels... 122 found, 0 missing, 0 empty, 0 corrupt: 100%|██████████| 122/122 [00:00<?, ?it/s]\n",
      "\n",
      "               Class     Images     Labels          P          R     mAP@.5 mAP@.5:.95:   0%|          | 0/4 [00:00<?, ?it/s]\n",
      "               Class     Images     Labels          P          R     mAP@.5 mAP@.5:.95:  25%|██▌       | 1/4 [00:01<00:03,  1.03s/it]\n",
      "               Class     Images     Labels          P          R     mAP@.5 mAP@.5:.95:  50%|█████     | 2/4 [00:01<00:01,  1.35it/s]\n",
      "               Class     Images     Labels          P          R     mAP@.5 mAP@.5:.95:  75%|███████▌  | 3/4 [00:02<00:00,  1.59it/s]\n",
      "               Class     Images     Labels          P          R     mAP@.5 mAP@.5:.95: 100%|██████████| 4/4 [00:02<00:00,  1.81it/s]\n",
      "               Class     Images     Labels          P          R     mAP@.5 mAP@.5:.95: 100%|██████████| 4/4 [00:02<00:00,  1.60it/s]\n",
      "                 all        122        254      0.874      0.823      0.863      0.551\n",
      "Speed: 0.4ms pre-process, 5.4ms inference, 1.8ms NMS per image at shape (32, 3, 640, 640)\n",
      "True Positives | False Positives | False Negatives @ conf_thres=0.8 & iou_thres=0.6\n",
      "(array([        196]), array([         28]), array([         57]))\n",
      "Results saved to \u001b[1myolov5\\runs\\val\\chosen-model\u001b[0m\n",
      "121 labels saved to yolov5\\runs\\val\\chosen-model\\labels\n"
     ]
    }
   ],
   "source": [
    "!python yolov5/val.py --batch-size $batch_size --data cfg/mosaic-noise-x3-data.yaml --weights weights/chosen-model.pt --name chosen-model --verbose --save-txt --save-conf --task test --single-cls"
   ]
  }
 ],
 "metadata": {
  "interpreter": {
   "hash": "cf27d97dcf4be97ac4b24b0958c44b40d000600328bb3db0f801b46df5aa5b85"
  },
  "kernelspec": {
   "display_name": "Python 3.9.6 ('venv': venv)",
   "language": "python",
   "name": "python3"
  },
  "language_info": {
   "codemirror_mode": {
    "name": "ipython",
    "version": 3
   },
   "file_extension": ".py",
   "mimetype": "text/x-python",
   "name": "python",
   "nbconvert_exporter": "python",
   "pygments_lexer": "ipython3",
   "version": "3.9.6"
  },
  "orig_nbformat": 4
 },
 "nbformat": 4,
 "nbformat_minor": 2
}
