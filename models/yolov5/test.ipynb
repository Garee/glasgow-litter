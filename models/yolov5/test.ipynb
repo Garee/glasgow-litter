{
 "cells": [
  {
   "cell_type": "code",
   "execution_count": null,
   "metadata": {},
   "outputs": [],
   "source": [
    "batch_size = 32"
   ]
  },
  {
   "cell_type": "code",
   "execution_count": null,
   "metadata": {},
   "outputs": [],
   "source": [
    "%%time\n",
    "!python yolov5/val.py --batch-size $batch_size --data cfg/mosaic-noise-x3-data-test.yaml --weights yolov5/runs/train/mosaic-noise-x3-tuned/weights/best.pt --name mosaic-noise-x3-tuned-test"
   ]
  }
 ],
 "metadata": {
  "language_info": {
   "name": "python"
  },
  "orig_nbformat": 4
 },
 "nbformat": 4,
 "nbformat_minor": 2
}
