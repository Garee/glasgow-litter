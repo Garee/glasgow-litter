{
 "cells": [
  {
   "cell_type": "markdown",
   "metadata": {},
   "source": [
    "# Validate YOLOv5s Models\n",
    "\n",
    "This notebook is used to validate various YOLOv5s models that were trained in `train.ipynb`.\n",
    "\n",
    "## Configuration"
   ]
  },
  {
   "cell_type": "code",
   "execution_count": 1,
   "metadata": {},
   "outputs": [],
   "source": [
    "batch_size = 32 # # The maximum batch size the GPU memory will allow."
   ]
  },
  {
   "cell_type": "markdown",
   "metadata": {},
   "source": [
    "## Validate\n",
    "\n",
    "The validation results can be found in `yolov5/runs/val` within the directory named by the `--name` argument."
   ]
  },
  {
   "cell_type": "code",
   "execution_count": 2,
   "metadata": {},
   "outputs": [
    {
     "name": "stdout",
     "output_type": "stream",
     "text": [
      "Wall time: 34.6 s\n"
     ]
    },
    {
     "name": "stderr",
     "output_type": "stream",
     "text": [
      "\u001b[34m\u001b[1mval: \u001b[0mdata=cfg/mosaic-contrast-noise-x3-data.yaml, weights=['yolov5/runs/train/mosaic-contrast-noise-x3/weights/best.pt'], batch_size=32, imgsz=640, conf_thres=0.001, iou_thres=0.6, task=val, device=, workers=8, single_cls=False, augment=False, verbose=False, save_txt=False, save_hybrid=False, save_conf=False, save_json=False, project=yolov5\\runs\\val, name=mosaic-contrast-noise-x3, exist_ok=False, half=False, dnn=False\n",
      "YOLOv5  2021-12-24 torch 1.10.1+cu113 CUDA:0 (NVIDIA GeForce RTX 3060, 12288MiB)\n",
      "\n",
      "Fusing layers... \n",
      "Model Summary: 213 layers, 7012822 parameters, 0 gradients\n",
      "\n",
      "\u001b[34m\u001b[1mval: \u001b[0mScanning '..\\..\\data\\models\\yolov5\\mosaic-contrast-noise-x3\\valid\\labels.cache' images and labels... 244 found, 0 missing, 0 empty, 0 corrupted: 100%|██████████| 244/244 [00:00<?, ?it/s]\n",
      "\u001b[34m\u001b[1mval: \u001b[0mScanning '..\\..\\data\\models\\yolov5\\mosaic-contrast-noise-x3\\valid\\labels.cache' images and labels... 244 found, 0 missing, 0 empty, 0 corrupted: 100%|██████████| 244/244 [00:00<?, ?it/s]\n",
      "\n",
      "               Class     Images     Labels          P          R     mAP@.5 mAP@.5:.95:   0%|          | 0/8 [00:00<?, ?it/s]\n",
      "               Class     Images     Labels          P          R     mAP@.5 mAP@.5:.95:  12%|█▎        | 1/8 [00:01<00:11,  1.61s/it]\n",
      "               Class     Images     Labels          P          R     mAP@.5 mAP@.5:.95:  25%|██▌       | 2/8 [00:02<00:06,  1.14s/it]\n",
      "               Class     Images     Labels          P          R     mAP@.5 mAP@.5:.95:  38%|███▊      | 3/8 [00:03<00:04,  1.00it/s]\n",
      "               Class     Images     Labels          P          R     mAP@.5 mAP@.5:.95:  50%|█████     | 4/8 [00:03<00:03,  1.12it/s]\n",
      "               Class     Images     Labels          P          R     mAP@.5 mAP@.5:.95:  62%|██████▎   | 5/8 [00:04<00:02,  1.24it/s]\n",
      "               Class     Images     Labels          P          R     mAP@.5 mAP@.5:.95:  75%|███████▌  | 6/8 [00:05<00:01,  1.35it/s]\n",
      "               Class     Images     Labels          P          R     mAP@.5 mAP@.5:.95:  88%|████████▊ | 7/8 [00:05<00:00,  1.42it/s]\n",
      "               Class     Images     Labels          P          R     mAP@.5 mAP@.5:.95: 100%|██████████| 8/8 [00:06<00:00,  1.65it/s]\n",
      "               Class     Images     Labels          P          R     mAP@.5 mAP@.5:.95: 100%|██████████| 8/8 [00:06<00:00,  1.28it/s]\n",
      "                 all        244        485       0.77      0.748      0.795      0.421\n",
      "Speed: 0.4ms pre-process, 14.5ms inference, 2.3ms NMS per image at shape (32, 3, 640, 640)\n",
      "Results saved to \u001b[1myolov5\\runs\\val\\mosaic-contrast-noise-x3\u001b[0m\n"
     ]
    }
   ],
   "source": [
    "%%time\n",
    "!python yolov5/val.py --batch-size $batch_size --data cfg/mosaic-contrast-noise-x3-data.yaml --weights yolov5/runs/train/mosaic-contrast-noise-x3/weights/best.pt --name mosaic-contrast-noise-x3"
   ]
  },
  {
   "cell_type": "code",
   "execution_count": 3,
   "metadata": {},
   "outputs": [
    {
     "name": "stdout",
     "output_type": "stream",
     "text": [
      "Wall time: 30.8 s\n"
     ]
    },
    {
     "name": "stderr",
     "output_type": "stream",
     "text": [
      "\u001b[34m\u001b[1mval: \u001b[0mdata=cfg/mosaic-noise-x3-data.yaml, weights=['yolov5/runs/train/mosaic-noise-x3/weights/best.pt'], batch_size=32, imgsz=640, conf_thres=0.001, iou_thres=0.6, task=val, device=, workers=8, single_cls=False, augment=False, verbose=False, save_txt=False, save_hybrid=False, save_conf=False, save_json=False, project=yolov5\\runs\\val, name=mosaic-noise-x3, exist_ok=False, half=False, dnn=False\n",
      "YOLOv5  2021-12-24 torch 1.10.1+cu113 CUDA:0 (NVIDIA GeForce RTX 3060, 12288MiB)\n",
      "\n",
      "Fusing layers... \n",
      "Model Summary: 213 layers, 7012822 parameters, 0 gradients\n",
      "\n",
      "\u001b[34m\u001b[1mval: \u001b[0mScanning '..\\..\\data\\models\\yolov5\\mosaic-noise-x3\\valid\\labels' images and labels...:   0%|          | 0/244 [00:00<?, ?it/s]\n",
      "\u001b[34m\u001b[1mval: \u001b[0mScanning '..\\..\\data\\models\\yolov5\\mosaic-noise-x3\\valid\\labels' images and labels...1 found, 0 missing, 0 empty, 0 corrupted:   0%|          | 1/244 [00:02<11:36,  2.87s/it]\n",
      "\u001b[34m\u001b[1mval: \u001b[0mScanning '..\\..\\data\\models\\yolov5\\mosaic-noise-x3\\valid\\labels' images and labels...149 found, 0 missing, 0 empty, 0 corrupted:  61%|██████    | 149/244 [00:02<00:01, 70.61it/s]\n",
      "\u001b[34m\u001b[1mval: \u001b[0mScanning '..\\..\\data\\models\\yolov5\\mosaic-noise-x3\\valid\\labels' images and labels...244 found, 0 missing, 0 empty, 0 corrupted: 100%|██████████| 244/244 [00:03<00:00, 81.02it/s]\n",
      "\u001b[34m\u001b[1mval: \u001b[0mWARNING: Cache directory ..\\..\\data\\models\\yolov5\\mosaic-noise-x3\\valid is not writeable: [WinError 183] Cannot create a file when that file already exists: '..\\\\..\\\\data\\\\models\\\\yolov5\\\\mosaic-noise-x3\\\\valid\\\\labels.cache.npy' -> '..\\\\..\\\\data\\\\models\\\\yolov5\\\\mosaic-noise-x3\\\\valid\\\\labels.cache'\n",
      "\n",
      "               Class     Images     Labels          P          R     mAP@.5 mAP@.5:.95:   0%|          | 0/8 [00:00<?, ?it/s]\n",
      "               Class     Images     Labels          P          R     mAP@.5 mAP@.5:.95:  12%|█▎        | 1/8 [00:01<00:09,  1.31s/it]\n",
      "               Class     Images     Labels          P          R     mAP@.5 mAP@.5:.95:  25%|██▌       | 2/8 [00:01<00:05,  1.13it/s]\n",
      "               Class     Images     Labels          P          R     mAP@.5 mAP@.5:.95:  38%|███▊      | 3/8 [00:02<00:03,  1.32it/s]\n",
      "               Class     Images     Labels          P          R     mAP@.5 mAP@.5:.95:  50%|█████     | 4/8 [00:03<00:02,  1.40it/s]\n",
      "               Class     Images     Labels          P          R     mAP@.5 mAP@.5:.95:  62%|██████▎   | 5/8 [00:03<00:01,  1.62it/s]\n",
      "               Class     Images     Labels          P          R     mAP@.5 mAP@.5:.95:  75%|███████▌  | 6/8 [00:04<00:01,  1.79it/s]\n",
      "               Class     Images     Labels          P          R     mAP@.5 mAP@.5:.95:  88%|████████▊ | 7/8 [00:04<00:00,  1.93it/s]\n",
      "               Class     Images     Labels          P          R     mAP@.5 mAP@.5:.95: 100%|██████████| 8/8 [00:04<00:00,  2.30it/s]\n",
      "               Class     Images     Labels          P          R     mAP@.5 mAP@.5:.95: 100%|██████████| 8/8 [00:04<00:00,  1.69it/s]\n",
      "                 all        244        485      0.824      0.784      0.826      0.436\n",
      "Speed: 0.4ms pre-process, 10.1ms inference, 1.9ms NMS per image at shape (32, 3, 640, 640)\n",
      "Results saved to \u001b[1myolov5\\runs\\val\\mosaic-noise-x3\u001b[0m\n"
     ]
    }
   ],
   "source": [
    "%%time\n",
    "!python yolov5/val.py --batch-size $batch_size --data cfg/mosaic-noise-x3-data.yaml --weights yolov5/runs/train/mosaic-noise-x3/weights/best.pt --name mosaic-noise-x3"
   ]
  },
  {
   "cell_type": "code",
   "execution_count": 4,
   "metadata": {},
   "outputs": [
    {
     "name": "stdout",
     "output_type": "stream",
     "text": [
      "Wall time: 29.8 s\n"
     ]
    },
    {
     "name": "stderr",
     "output_type": "stream",
     "text": [
      "\u001b[34m\u001b[1mval: \u001b[0mdata=cfg/mosaic-x2-data.yaml, weights=['yolov5/runs/train/mosaic-x3/weights/best.pt'], batch_size=32, imgsz=640, conf_thres=0.001, iou_thres=0.6, task=val, device=, workers=8, single_cls=False, augment=False, verbose=False, save_txt=False, save_hybrid=False, save_conf=False, save_json=False, project=yolov5\\runs\\val, name=mosaic--x2, exist_ok=False, half=False, dnn=False\n",
      "YOLOv5  2021-12-24 torch 1.10.1+cu113 CUDA:0 (NVIDIA GeForce RTX 3060, 12288MiB)\n",
      "\n",
      "Fusing layers... \n",
      "Model Summary: 213 layers, 7012822 parameters, 0 gradients\n",
      "\n",
      "\u001b[34m\u001b[1mval: \u001b[0mScanning '..\\..\\data\\models\\yolov5\\mosaic-x2\\valid\\labels' images and labels...:   0%|          | 0/244 [00:00<?, ?it/s]\n",
      "\u001b[34m\u001b[1mval: \u001b[0mScanning '..\\..\\data\\models\\yolov5\\mosaic-x2\\valid\\labels' images and labels...1 found, 0 missing, 0 empty, 0 corrupted:   0%|          | 1/244 [00:02<11:08,  2.75s/it]\n",
      "\u001b[34m\u001b[1mval: \u001b[0mScanning '..\\..\\data\\models\\yolov5\\mosaic-x2\\valid\\labels' images and labels...244 found, 0 missing, 0 empty, 0 corrupted: 100%|██████████| 244/244 [00:02<00:00, 86.35it/s]\n",
      "\u001b[34m\u001b[1mval: \u001b[0mWARNING: Cache directory ..\\..\\data\\models\\yolov5\\mosaic-x2\\valid is not writeable: [WinError 183] Cannot create a file when that file already exists: '..\\\\..\\\\data\\\\models\\\\yolov5\\\\mosaic-x2\\\\valid\\\\labels.cache.npy' -> '..\\\\..\\\\data\\\\models\\\\yolov5\\\\mosaic-x2\\\\valid\\\\labels.cache'\n",
      "\n",
      "               Class     Images     Labels          P          R     mAP@.5 mAP@.5:.95:   0%|          | 0/8 [00:00<?, ?it/s]\n",
      "               Class     Images     Labels          P          R     mAP@.5 mAP@.5:.95:  12%|█▎        | 1/8 [00:01<00:08,  1.27s/it]\n",
      "               Class     Images     Labels          P          R     mAP@.5 mAP@.5:.95:  25%|██▌       | 2/8 [00:01<00:05,  1.12it/s]\n",
      "               Class     Images     Labels          P          R     mAP@.5 mAP@.5:.95:  38%|███▊      | 3/8 [00:02<00:03,  1.33it/s]\n",
      "               Class     Images     Labels          P          R     mAP@.5 mAP@.5:.95:  50%|█████     | 4/8 [00:03<00:02,  1.51it/s]\n",
      "               Class     Images     Labels          P          R     mAP@.5 mAP@.5:.95:  62%|██████▎   | 5/8 [00:03<00:01,  1.73it/s]\n",
      "               Class     Images     Labels          P          R     mAP@.5 mAP@.5:.95:  75%|███████▌  | 6/8 [00:03<00:01,  1.90it/s]\n",
      "               Class     Images     Labels          P          R     mAP@.5 mAP@.5:.95:  88%|████████▊ | 7/8 [00:04<00:00,  1.99it/s]\n",
      "               Class     Images     Labels          P          R     mAP@.5 mAP@.5:.95: 100%|██████████| 8/8 [00:04<00:00,  2.33it/s]\n",
      "               Class     Images     Labels          P          R     mAP@.5 mAP@.5:.95: 100%|██████████| 8/8 [00:04<00:00,  1.75it/s]\n",
      "                 all        244        485      0.892      0.851        0.9       0.53\n",
      "Speed: 0.7ms pre-process, 9.3ms inference, 1.8ms NMS per image at shape (32, 3, 640, 640)\n",
      "Results saved to \u001b[1myolov5\\runs\\val\\mosaic--x2\u001b[0m\n"
     ]
    }
   ],
   "source": [
    "%%time\n",
    "!python yolov5/val.py --batch-size $batch_size --data cfg/mosaic-x2-data.yaml --weights yolov5/runs/train/mosaic-x3/weights/best.pt --name mosaic--x2"
   ]
  },
  {
   "cell_type": "code",
   "execution_count": 5,
   "metadata": {},
   "outputs": [
    {
     "name": "stdout",
     "output_type": "stream",
     "text": [
      "Wall time: 27.6 s\n"
     ]
    },
    {
     "name": "stderr",
     "output_type": "stream",
     "text": [
      "\u001b[34m\u001b[1mval: \u001b[0mdata=cfg/mosaic-x3-data.yaml, weights=['yolov5/runs/train/mosaic-x3/weights/best.pt'], batch_size=32, imgsz=640, conf_thres=0.001, iou_thres=0.6, task=val, device=, workers=8, single_cls=False, augment=False, verbose=False, save_txt=False, save_hybrid=False, save_conf=False, save_json=False, project=yolov5\\runs\\val, name=mosaic--x3, exist_ok=False, half=False, dnn=False\n",
      "YOLOv5  2021-12-24 torch 1.10.1+cu113 CUDA:0 (NVIDIA GeForce RTX 3060, 12288MiB)\n",
      "\n",
      "Fusing layers... \n",
      "Model Summary: 213 layers, 7012822 parameters, 0 gradients\n",
      "\n",
      "\u001b[34m\u001b[1mval: \u001b[0mScanning '..\\..\\data\\models\\yolov5\\mosaic-x3\\valid\\labels.cache' images and labels... 244 found, 0 missing, 0 empty, 0 corrupted: 100%|██████████| 244/244 [00:00<?, ?it/s]\n",
      "\u001b[34m\u001b[1mval: \u001b[0mScanning '..\\..\\data\\models\\yolov5\\mosaic-x3\\valid\\labels.cache' images and labels... 244 found, 0 missing, 0 empty, 0 corrupted: 100%|██████████| 244/244 [00:00<?, ?it/s]\n",
      "\n",
      "               Class     Images     Labels          P          R     mAP@.5 mAP@.5:.95:   0%|          | 0/8 [00:00<?, ?it/s]\n",
      "               Class     Images     Labels          P          R     mAP@.5 mAP@.5:.95:  12%|█▎        | 1/8 [00:01<00:10,  1.55s/it]\n",
      "               Class     Images     Labels          P          R     mAP@.5 mAP@.5:.95:  25%|██▌       | 2/8 [00:02<00:06,  1.02s/it]\n",
      "               Class     Images     Labels          P          R     mAP@.5 mAP@.5:.95:  38%|███▊      | 3/8 [00:02<00:04,  1.21it/s]\n",
      "               Class     Images     Labels          P          R     mAP@.5 mAP@.5:.95:  50%|█████     | 4/8 [00:03<00:02,  1.36it/s]\n",
      "               Class     Images     Labels          P          R     mAP@.5 mAP@.5:.95:  62%|██████▎   | 5/8 [00:03<00:01,  1.59it/s]\n",
      "               Class     Images     Labels          P          R     mAP@.5 mAP@.5:.95:  75%|███████▌  | 6/8 [00:04<00:01,  1.77it/s]\n",
      "               Class     Images     Labels          P          R     mAP@.5 mAP@.5:.95:  88%|████████▊ | 7/8 [00:04<00:00,  1.91it/s]\n",
      "               Class     Images     Labels          P          R     mAP@.5 mAP@.5:.95: 100%|██████████| 8/8 [00:04<00:00,  2.25it/s]\n",
      "               Class     Images     Labels          P          R     mAP@.5 mAP@.5:.95: 100%|██████████| 8/8 [00:04<00:00,  1.61it/s]\n",
      "                 all        244        485      0.892      0.851        0.9       0.53\n",
      "Speed: 1.3ms pre-process, 9.7ms inference, 2.0ms NMS per image at shape (32, 3, 640, 640)\n",
      "Results saved to \u001b[1myolov5\\runs\\val\\mosaic--x3\u001b[0m\n"
     ]
    }
   ],
   "source": [
    "%%time\n",
    "!python yolov5/val.py --batch-size $batch_size --data cfg/mosaic-x3-data.yaml --weights yolov5/runs/train/mosaic-x3/weights/best.pt --name mosaic--x3"
   ]
  }
 ],
 "metadata": {
  "interpreter": {
   "hash": "cf27d97dcf4be97ac4b24b0958c44b40d000600328bb3db0f801b46df5aa5b85"
  },
  "kernelspec": {
   "display_name": "Python 3.9.6 64-bit ('venv': venv)",
   "language": "python",
   "name": "python3"
  },
  "language_info": {
   "codemirror_mode": {
    "name": "ipython",
    "version": 3
   },
   "file_extension": ".py",
   "mimetype": "text/x-python",
   "name": "python",
   "nbconvert_exporter": "python",
   "pygments_lexer": "ipython3",
   "version": "3.9.6"
  },
  "orig_nbformat": 4
 },
 "nbformat": 4,
 "nbformat_minor": 2
}
