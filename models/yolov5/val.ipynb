{
 "cells": [
  {
   "cell_type": "markdown",
   "metadata": {},
   "source": [
    "# Validate YOLOv5s Models\n",
    "\n",
    "This notebook is used to validate various YOLOv5s models that were trained in `train.ipynb`.\n",
    "\n",
    "## Configuration"
   ]
  },
  {
   "cell_type": "code",
   "execution_count": 11,
   "metadata": {},
   "outputs": [],
   "source": [
    "batch_size = 32 # The maximum batch size the GPU memory will allow."
   ]
  },
  {
   "cell_type": "markdown",
   "metadata": {},
   "source": [
    "## Validate\n",
    "\n",
    "The validation results can be found in `yolov5/runs/val` within the directory named by the `--name` argument."
   ]
  },
  {
   "cell_type": "code",
   "execution_count": 12,
   "metadata": {},
   "outputs": [
    {
     "name": "stdout",
     "output_type": "stream",
     "text": [
      "CPU times: total: 0 ns\n",
      "Wall time: 30.9 s\n"
     ]
    },
    {
     "name": "stderr",
     "output_type": "stream",
     "text": [
      "\u001b[34m\u001b[1mval: \u001b[0mdata=cfg/mosaic-contrast-noise-x3-data.yaml, weights=['yolov5/runs/train/mosaic-contrast-noise-x3/weights/best.pt'], batch_size=32, imgsz=640, conf_thres=0.001, iou_thres=0.6, task=val, device=, workers=8, single_cls=False, augment=False, verbose=False, save_txt=False, save_hybrid=False, save_conf=False, save_json=False, project=yolov5\\runs\\val, name=mosaic-contrast-noise-x3, exist_ok=False, half=False, dnn=False\n",
      "git: 'Blackwood\\dev\\glasgow-litter\\models\\yolov5\\yolov5' is not a git command. See 'git --help'.\n",
      "YOLOv5  2022-3-11 torch 1.8.2+cu111 CUDA:0 (NVIDIA GeForce RTX 3060, 12288MiB)\n",
      "\n",
      "Fusing layers... \n",
      "Model Summary: 213 layers, 7012822 parameters, 0 gradients, 15.8 GFLOPs\n",
      "\n",
      "\u001b[34m\u001b[1mval: \u001b[0mScanning 'C:\\Users\\Gary Blackwood\\dev\\glasgow-litter\\models\\yolov5\\yolov5\\..\\..\\..\\data\\models\\yolov5\\mosaic-contrast-noise-x3\\valid\\labels' images and labels...:   0%|          | 0/244 [00:00<?, ?it/s]\n",
      "\u001b[34m\u001b[1mval: \u001b[0mScanning 'C:\\Users\\Gary Blackwood\\dev\\glasgow-litter\\models\\yolov5\\yolov5\\..\\..\\..\\data\\models\\yolov5\\mosaic-contrast-noise-x3\\valid\\labels' images and labels...1 found, 0 missing, 0 empty, 0 corrupt:   0%|          | 1/244 [00:03<16:10,  3.99s/it]\n",
      "\u001b[34m\u001b[1mval: \u001b[0mScanning 'C:\\Users\\Gary Blackwood\\dev\\glasgow-litter\\models\\yolov5\\yolov5\\..\\..\\..\\data\\models\\yolov5\\mosaic-contrast-noise-x3\\valid\\labels' images and labels...133 found, 0 missing, 0 empty, 0 corrupt:  55%|█████▍    | 133/244 [00:04<00:02, 45.81it/s]\n",
      "\u001b[34m\u001b[1mval: \u001b[0mScanning 'C:\\Users\\Gary Blackwood\\dev\\glasgow-litter\\models\\yolov5\\yolov5\\..\\..\\..\\data\\models\\yolov5\\mosaic-contrast-noise-x3\\valid\\labels' images and labels...244 found, 0 missing, 0 empty, 0 corrupt: 100%|██████████| 244/244 [00:04<00:00, 58.75it/s]\n",
      "\u001b[34m\u001b[1mval: \u001b[0mWARNING: Cache directory C:\\Users\\Gary Blackwood\\dev\\glasgow-litter\\models\\yolov5\\yolov5\\..\\..\\..\\data\\models\\yolov5\\mosaic-contrast-noise-x3\\valid is not writeable: [WinError 183] Cannot create a file when that file already exists: 'C:\\\\Users\\\\Gary Blackwood\\\\dev\\\\glasgow-litter\\\\models\\\\yolov5\\\\yolov5\\\\..\\\\..\\\\..\\\\data\\\\models\\\\yolov5\\\\mosaic-contrast-noise-x3\\\\valid\\\\labels.cache.npy' -> 'C:\\\\Users\\\\Gary Blackwood\\\\dev\\\\glasgow-litter\\\\models\\\\yolov5\\\\yolov5\\\\..\\\\..\\\\..\\\\data\\\\models\\\\yolov5\\\\mosaic-contrast-noise-x3\\\\valid\\\\labels.cache'\n",
      "\n",
      "               Class     Images     Labels          P          R     mAP@.5 mAP@.5:.95:   0%|          | 0/8 [00:00<?, ?it/s]\n",
      "               Class     Images     Labels          P          R     mAP@.5 mAP@.5:.95:  12%|█▎        | 1/8 [00:01<00:10,  1.51s/it]\n",
      "               Class     Images     Labels          P          R     mAP@.5 mAP@.5:.95:  25%|██▌       | 2/8 [00:02<00:05,  1.02it/s]\n",
      "               Class     Images     Labels          P          R     mAP@.5 mAP@.5:.95:  38%|███▊      | 3/8 [00:02<00:03,  1.27it/s]\n",
      "               Class     Images     Labels          P          R     mAP@.5 mAP@.5:.95:  50%|█████     | 4/8 [00:03<00:02,  1.52it/s]\n",
      "               Class     Images     Labels          P          R     mAP@.5 mAP@.5:.95:  62%|██████▎   | 5/8 [00:03<00:01,  1.82it/s]\n",
      "               Class     Images     Labels          P          R     mAP@.5 mAP@.5:.95:  75%|███████▌  | 6/8 [00:03<00:00,  2.11it/s]\n",
      "               Class     Images     Labels          P          R     mAP@.5 mAP@.5:.95:  88%|████████▊ | 7/8 [00:04<00:00,  2.31it/s]\n",
      "               Class     Images     Labels          P          R     mAP@.5 mAP@.5:.95: 100%|██████████| 8/8 [00:04<00:00,  2.71it/s]\n",
      "               Class     Images     Labels          P          R     mAP@.5 mAP@.5:.95: 100%|██████████| 8/8 [00:04<00:00,  1.82it/s]\n",
      "                 all        244        485       0.77      0.748      0.795      0.421\n",
      "Speed: 1.4ms pre-process, 7.7ms inference, 2.3ms NMS per image at shape (32, 3, 640, 640)\n",
      "True Positives | False Positives | False Negatives @ conf_thres=0.8 & iou_thres=0.6\n",
      "(array([        226]), array([         14]), array([        259]))\n",
      "Results saved to \u001b[1myolov5\\runs\\val\\mosaic-contrast-noise-x3\u001b[0m\n"
     ]
    }
   ],
   "source": [
    "%%time\n",
    "!python yolov5/val.py --batch-size $batch_size --data cfg/mosaic-contrast-noise-x3-data.yaml --weights yolov5/runs/train/mosaic-contrast-noise-x3/weights/best.pt --name mosaic-contrast-noise-x3"
   ]
  },
  {
   "cell_type": "code",
   "execution_count": 13,
   "metadata": {},
   "outputs": [
    {
     "name": "stdout",
     "output_type": "stream",
     "text": [
      "CPU times: total: 0 ns\n",
      "Wall time: 30.4 s\n"
     ]
    },
    {
     "name": "stderr",
     "output_type": "stream",
     "text": [
      "\u001b[34m\u001b[1mval: \u001b[0mdata=cfg/mosaic-noise-x3-data.yaml, weights=['yolov5/runs/train/mosaic-noise-x3/weights/best.pt'], batch_size=32, imgsz=640, conf_thres=0.001, iou_thres=0.6, task=val, device=, workers=8, single_cls=False, augment=False, verbose=False, save_txt=False, save_hybrid=False, save_conf=False, save_json=False, project=yolov5\\runs\\val, name=mosaic-noise-x3, exist_ok=False, half=False, dnn=False\n",
      "git: 'Blackwood\\dev\\glasgow-litter\\models\\yolov5\\yolov5' is not a git command. See 'git --help'.\n",
      "YOLOv5  2022-3-11 torch 1.8.2+cu111 CUDA:0 (NVIDIA GeForce RTX 3060, 12288MiB)\n",
      "\n",
      "Fusing layers... \n",
      "Model Summary: 213 layers, 7012822 parameters, 0 gradients, 15.8 GFLOPs\n",
      "\n",
      "\u001b[34m\u001b[1mval: \u001b[0mScanning 'C:\\Users\\Gary Blackwood\\dev\\glasgow-litter\\models\\yolov5\\yolov5\\..\\..\\..\\data\\models\\yolov5\\mosaic-noise-x3\\valid\\labels' images and labels...:   0%|          | 0/244 [00:00<?, ?it/s]\n",
      "\u001b[34m\u001b[1mval: \u001b[0mScanning 'C:\\Users\\Gary Blackwood\\dev\\glasgow-litter\\models\\yolov5\\yolov5\\..\\..\\..\\data\\models\\yolov5\\mosaic-noise-x3\\valid\\labels' images and labels...1 found, 0 missing, 0 empty, 0 corrupt:   0%|          | 1/244 [00:04<17:29,  4.32s/it]\n",
      "\u001b[34m\u001b[1mval: \u001b[0mScanning 'C:\\Users\\Gary Blackwood\\dev\\glasgow-litter\\models\\yolov5\\yolov5\\..\\..\\..\\data\\models\\yolov5\\mosaic-noise-x3\\valid\\labels' images and labels...157 found, 0 missing, 0 empty, 0 corrupt:  64%|██████▍   | 157/244 [00:04<00:01, 50.16it/s]\n",
      "\u001b[34m\u001b[1mval: \u001b[0mScanning 'C:\\Users\\Gary Blackwood\\dev\\glasgow-litter\\models\\yolov5\\yolov5\\..\\..\\..\\data\\models\\yolov5\\mosaic-noise-x3\\valid\\labels' images and labels...244 found, 0 missing, 0 empty, 0 corrupt: 100%|██████████| 244/244 [00:04<00:00, 54.49it/s]\n",
      "\u001b[34m\u001b[1mval: \u001b[0mWARNING: Cache directory C:\\Users\\Gary Blackwood\\dev\\glasgow-litter\\models\\yolov5\\yolov5\\..\\..\\..\\data\\models\\yolov5\\mosaic-noise-x3\\valid is not writeable: [WinError 183] Cannot create a file when that file already exists: 'C:\\\\Users\\\\Gary Blackwood\\\\dev\\\\glasgow-litter\\\\models\\\\yolov5\\\\yolov5\\\\..\\\\..\\\\..\\\\data\\\\models\\\\yolov5\\\\mosaic-noise-x3\\\\valid\\\\labels.cache.npy' -> 'C:\\\\Users\\\\Gary Blackwood\\\\dev\\\\glasgow-litter\\\\models\\\\yolov5\\\\yolov5\\\\..\\\\..\\\\..\\\\data\\\\models\\\\yolov5\\\\mosaic-noise-x3\\\\valid\\\\labels.cache'\n",
      "\n",
      "               Class     Images     Labels          P          R     mAP@.5 mAP@.5:.95:   0%|          | 0/8 [00:00<?, ?it/s]\n",
      "               Class     Images     Labels          P          R     mAP@.5 mAP@.5:.95:  12%|█▎        | 1/8 [00:01<00:08,  1.17s/it]\n",
      "               Class     Images     Labels          P          R     mAP@.5 mAP@.5:.95:  25%|██▌       | 2/8 [00:01<00:04,  1.28it/s]\n",
      "               Class     Images     Labels          P          R     mAP@.5 mAP@.5:.95:  38%|███▊      | 3/8 [00:02<00:03,  1.54it/s]\n",
      "               Class     Images     Labels          P          R     mAP@.5 mAP@.5:.95:  50%|█████     | 4/8 [00:02<00:02,  1.79it/s]\n",
      "               Class     Images     Labels          P          R     mAP@.5 mAP@.5:.95:  62%|██████▎   | 5/8 [00:02<00:01,  2.11it/s]\n",
      "               Class     Images     Labels          P          R     mAP@.5 mAP@.5:.95:  75%|███████▌  | 6/8 [00:03<00:00,  2.39it/s]\n",
      "               Class     Images     Labels          P          R     mAP@.5 mAP@.5:.95:  88%|████████▊ | 7/8 [00:03<00:00,  2.60it/s]\n",
      "               Class     Images     Labels          P          R     mAP@.5 mAP@.5:.95: 100%|██████████| 8/8 [00:03<00:00,  3.06it/s]\n",
      "               Class     Images     Labels          P          R     mAP@.5 mAP@.5:.95: 100%|██████████| 8/8 [00:03<00:00,  2.14it/s]\n",
      "                 all        244        485      0.822      0.784      0.826      0.436\n",
      "Speed: 0.3ms pre-process, 6.3ms inference, 2.0ms NMS per image at shape (32, 3, 640, 640)\n",
      "True Positives | False Positives | False Negatives @ conf_thres=0.8 & iou_thres=0.6\n",
      "(array([        227]), array([         17]), array([        258]))\n",
      "Results saved to \u001b[1myolov5\\runs\\val\\mosaic-noise-x3\u001b[0m\n"
     ]
    }
   ],
   "source": [
    "%%time\n",
    "!python yolov5/val.py --batch-size $batch_size --data cfg/mosaic-noise-x3-data.yaml --weights yolov5/runs/train/mosaic-noise-x3/weights/best.pt --name mosaic-noise-x3"
   ]
  },
  {
   "cell_type": "code",
   "execution_count": 14,
   "metadata": {},
   "outputs": [
    {
     "name": "stdout",
     "output_type": "stream",
     "text": [
      "CPU times: total: 15.6 ms\n",
      "Wall time: 30.2 s\n"
     ]
    },
    {
     "name": "stderr",
     "output_type": "stream",
     "text": [
      "\u001b[34m\u001b[1mval: \u001b[0mdata=cfg/mosaic-noise-x3-data.yaml, weights=['yolov5/runs/train/mosaic-noise-x3-tuned/weights/best.pt'], batch_size=32, imgsz=640, conf_thres=0.001, iou_thres=0.6, task=val, device=, workers=8, single_cls=False, augment=False, verbose=False, save_txt=False, save_hybrid=False, save_conf=False, save_json=False, project=yolov5\\runs\\val, name=mosaic-noise-x3-tuned, exist_ok=False, half=False, dnn=False\n",
      "git: 'Blackwood\\dev\\glasgow-litter\\models\\yolov5\\yolov5' is not a git command. See 'git --help'.\n",
      "YOLOv5  2022-3-11 torch 1.8.2+cu111 CUDA:0 (NVIDIA GeForce RTX 3060, 12288MiB)\n",
      "\n",
      "Fusing layers... \n",
      "Model Summary: 213 layers, 7012822 parameters, 0 gradients, 15.8 GFLOPs\n",
      "\n",
      "\u001b[34m\u001b[1mval: \u001b[0mScanning 'C:\\Users\\Gary Blackwood\\dev\\glasgow-litter\\models\\yolov5\\yolov5\\..\\..\\..\\data\\models\\yolov5\\mosaic-noise-x3\\valid\\labels' images and labels...:   0%|          | 0/244 [00:00<?, ?it/s]\n",
      "\u001b[34m\u001b[1mval: \u001b[0mScanning 'C:\\Users\\Gary Blackwood\\dev\\glasgow-litter\\models\\yolov5\\yolov5\\..\\..\\..\\data\\models\\yolov5\\mosaic-noise-x3\\valid\\labels' images and labels...1 found, 0 missing, 0 empty, 0 corrupt:   0%|          | 1/244 [00:04<16:25,  4.06s/it]\n",
      "\u001b[34m\u001b[1mval: \u001b[0mScanning 'C:\\Users\\Gary Blackwood\\dev\\glasgow-litter\\models\\yolov5\\yolov5\\..\\..\\..\\data\\models\\yolov5\\mosaic-noise-x3\\valid\\labels' images and labels...135 found, 0 missing, 0 empty, 0 corrupt:  55%|█████▌    | 135/244 [00:04<00:02, 45.82it/s]\n",
      "\u001b[34m\u001b[1mval: \u001b[0mScanning 'C:\\Users\\Gary Blackwood\\dev\\glasgow-litter\\models\\yolov5\\yolov5\\..\\..\\..\\data\\models\\yolov5\\mosaic-noise-x3\\valid\\labels' images and labels...244 found, 0 missing, 0 empty, 0 corrupt: 100%|██████████| 244/244 [00:04<00:00, 57.60it/s]\n",
      "\u001b[34m\u001b[1mval: \u001b[0mWARNING: Cache directory C:\\Users\\Gary Blackwood\\dev\\glasgow-litter\\models\\yolov5\\yolov5\\..\\..\\..\\data\\models\\yolov5\\mosaic-noise-x3\\valid is not writeable: [WinError 183] Cannot create a file when that file already exists: 'C:\\\\Users\\\\Gary Blackwood\\\\dev\\\\glasgow-litter\\\\models\\\\yolov5\\\\yolov5\\\\..\\\\..\\\\..\\\\data\\\\models\\\\yolov5\\\\mosaic-noise-x3\\\\valid\\\\labels.cache.npy' -> 'C:\\\\Users\\\\Gary Blackwood\\\\dev\\\\glasgow-litter\\\\models\\\\yolov5\\\\yolov5\\\\..\\\\..\\\\..\\\\data\\\\models\\\\yolov5\\\\mosaic-noise-x3\\\\valid\\\\labels.cache'\n",
      "\n",
      "               Class     Images     Labels          P          R     mAP@.5 mAP@.5:.95:   0%|          | 0/8 [00:00<?, ?it/s]\n",
      "               Class     Images     Labels          P          R     mAP@.5 mAP@.5:.95:  12%|█▎        | 1/8 [00:01<00:09,  1.42s/it]\n",
      "               Class     Images     Labels          P          R     mAP@.5 mAP@.5:.95:  25%|██▌       | 2/8 [00:01<00:05,  1.14it/s]\n",
      "               Class     Images     Labels          P          R     mAP@.5 mAP@.5:.95:  38%|███▊      | 3/8 [00:02<00:03,  1.44it/s]\n",
      "               Class     Images     Labels          P          R     mAP@.5 mAP@.5:.95:  50%|█████     | 4/8 [00:02<00:02,  1.70it/s]\n",
      "               Class     Images     Labels          P          R     mAP@.5 mAP@.5:.95:  62%|██████▎   | 5/8 [00:03<00:01,  2.03it/s]\n",
      "               Class     Images     Labels          P          R     mAP@.5 mAP@.5:.95:  75%|███████▌  | 6/8 [00:03<00:00,  2.31it/s]\n",
      "               Class     Images     Labels          P          R     mAP@.5 mAP@.5:.95:  88%|████████▊ | 7/8 [00:03<00:00,  2.45it/s]\n",
      "               Class     Images     Labels          P          R     mAP@.5 mAP@.5:.95: 100%|██████████| 8/8 [00:04<00:00,  2.92it/s]\n",
      "               Class     Images     Labels          P          R     mAP@.5 mAP@.5:.95: 100%|██████████| 8/8 [00:04<00:00,  1.99it/s]\n",
      "                 all        244        485      0.902      0.849      0.896      0.581\n",
      "Speed: 0.4ms pre-process, 7.3ms inference, 2.1ms NMS per image at shape (32, 3, 640, 640)\n",
      "True Positives | False Positives | False Negatives @ conf_thres=0.8 & iou_thres=0.6\n",
      "(array([        380]), array([         36]), array([        105]))\n",
      "Results saved to \u001b[1myolov5\\runs\\val\\mosaic-noise-x3-tuned\u001b[0m\n"
     ]
    }
   ],
   "source": [
    "%%time\n",
    "!python yolov5/val.py --batch-size $batch_size --data cfg/mosaic-noise-x3-data.yaml --weights yolov5/runs/train/mosaic-noise-x3-tuned/weights/best.pt --name mosaic-noise-x3-tuned"
   ]
  },
  {
   "cell_type": "code",
   "execution_count": 15,
   "metadata": {},
   "outputs": [
    {
     "name": "stdout",
     "output_type": "stream",
     "text": [
      "CPU times: total: 15.6 ms\n",
      "Wall time: 28.7 s\n"
     ]
    },
    {
     "name": "stderr",
     "output_type": "stream",
     "text": [
      "\u001b[34m\u001b[1mval: \u001b[0mdata=cfg/mosaic-x2-data.yaml, weights=['yolov5/runs/train/mosaic-x2/weights/best.pt'], batch_size=32, imgsz=640, conf_thres=0.001, iou_thres=0.6, task=val, device=, workers=8, single_cls=False, augment=False, verbose=False, save_txt=False, save_hybrid=False, save_conf=False, save_json=False, project=yolov5\\runs\\val, name=mosaic-x2, exist_ok=False, half=False, dnn=False\n",
      "git: 'Blackwood\\dev\\glasgow-litter\\models\\yolov5\\yolov5' is not a git command. See 'git --help'.\n",
      "YOLOv5  2022-3-11 torch 1.8.2+cu111 CUDA:0 (NVIDIA GeForce RTX 3060, 12288MiB)\n",
      "\n",
      "Fusing layers... \n",
      "Model Summary: 213 layers, 7012822 parameters, 0 gradients, 15.8 GFLOPs\n",
      "\n",
      "\u001b[34m\u001b[1mval: \u001b[0mScanning 'C:\\Users\\Gary Blackwood\\dev\\glasgow-litter\\models\\yolov5\\yolov5\\..\\..\\..\\data\\models\\yolov5\\mosaic-x2\\valid\\labels' images and labels...:   0%|          | 0/244 [00:00<?, ?it/s]\n",
      "\u001b[34m\u001b[1mval: \u001b[0mScanning 'C:\\Users\\Gary Blackwood\\dev\\glasgow-litter\\models\\yolov5\\yolov5\\..\\..\\..\\data\\models\\yolov5\\mosaic-x2\\valid\\labels' images and labels...1 found, 0 missing, 0 empty, 0 corrupt:   0%|          | 1/244 [00:03<15:40,  3.87s/it]\n",
      "\u001b[34m\u001b[1mval: \u001b[0mScanning 'C:\\Users\\Gary Blackwood\\dev\\glasgow-litter\\models\\yolov5\\yolov5\\..\\..\\..\\data\\models\\yolov5\\mosaic-x2\\valid\\labels' images and labels...244 found, 0 missing, 0 empty, 0 corrupt: 100%|██████████| 244/244 [00:03<00:00, 61.73it/s]\n",
      "\u001b[34m\u001b[1mval: \u001b[0mWARNING: Cache directory C:\\Users\\Gary Blackwood\\dev\\glasgow-litter\\models\\yolov5\\yolov5\\..\\..\\..\\data\\models\\yolov5\\mosaic-x2\\valid is not writeable: [WinError 183] Cannot create a file when that file already exists: 'C:\\\\Users\\\\Gary Blackwood\\\\dev\\\\glasgow-litter\\\\models\\\\yolov5\\\\yolov5\\\\..\\\\..\\\\..\\\\data\\\\models\\\\yolov5\\\\mosaic-x2\\\\valid\\\\labels.cache.npy' -> 'C:\\\\Users\\\\Gary Blackwood\\\\dev\\\\glasgow-litter\\\\models\\\\yolov5\\\\yolov5\\\\..\\\\..\\\\..\\\\data\\\\models\\\\yolov5\\\\mosaic-x2\\\\valid\\\\labels.cache'\n",
      "\n",
      "               Class     Images     Labels          P          R     mAP@.5 mAP@.5:.95:   0%|          | 0/8 [00:00<?, ?it/s]\n",
      "               Class     Images     Labels          P          R     mAP@.5 mAP@.5:.95:  12%|█▎        | 1/8 [00:01<00:07,  1.08s/it]\n",
      "               Class     Images     Labels          P          R     mAP@.5 mAP@.5:.95:  25%|██▌       | 2/8 [00:01<00:04,  1.40it/s]\n",
      "               Class     Images     Labels          P          R     mAP@.5 mAP@.5:.95:  38%|███▊      | 3/8 [00:01<00:02,  1.71it/s]\n",
      "               Class     Images     Labels          P          R     mAP@.5 mAP@.5:.95:  50%|█████     | 4/8 [00:02<00:02,  1.97it/s]\n",
      "               Class     Images     Labels          P          R     mAP@.5 mAP@.5:.95:  62%|██████▎   | 5/8 [00:02<00:01,  2.29it/s]\n",
      "               Class     Images     Labels          P          R     mAP@.5 mAP@.5:.95:  75%|███████▌  | 6/8 [00:02<00:00,  2.56it/s]\n",
      "               Class     Images     Labels          P          R     mAP@.5 mAP@.5:.95:  88%|████████▊ | 7/8 [00:03<00:00,  2.77it/s]\n",
      "               Class     Images     Labels          P          R     mAP@.5 mAP@.5:.95: 100%|██████████| 8/8 [00:03<00:00,  3.24it/s]\n",
      "               Class     Images     Labels          P          R     mAP@.5 mAP@.5:.95: 100%|██████████| 8/8 [00:03<00:00,  2.31it/s]\n",
      "                 all        244        485      0.809      0.786      0.803      0.409\n",
      "Speed: 0.3ms pre-process, 5.9ms inference, 1.7ms NMS per image at shape (32, 3, 640, 640)\n",
      "True Positives | False Positives | False Negatives @ conf_thres=0.8 & iou_thres=0.6\n",
      "(array([        251]), array([         34]), array([        234]))\n",
      "Results saved to \u001b[1myolov5\\runs\\val\\mosaic-x2\u001b[0m\n"
     ]
    }
   ],
   "source": [
    "%%time\n",
    "!python yolov5/val.py --batch-size $batch_size --data cfg/mosaic-x2-data.yaml --weights yolov5/runs/train/mosaic-x2/weights/best.pt --name mosaic-x2"
   ]
  },
  {
   "cell_type": "code",
   "execution_count": null,
   "metadata": {},
   "outputs": [],
   "source": [
    "%%time\n",
    "!python yolov5/val.py --batch-size $batch_size --data cfg/mosaic-x2-contrast-data.yaml --weights yolov5/runs/train/mosaic-x2-contrast/weights/best.pt --name mosaic-x2-contrast"
   ]
  },
  {
   "cell_type": "code",
   "execution_count": 16,
   "metadata": {},
   "outputs": [
    {
     "name": "stdout",
     "output_type": "stream",
     "text": [
      "CPU times: total: 15.6 ms\n",
      "Wall time: 30.1 s\n"
     ]
    },
    {
     "name": "stderr",
     "output_type": "stream",
     "text": [
      "\u001b[34m\u001b[1mval: \u001b[0mdata=cfg/mosaic-x3-data.yaml, weights=['yolov5/runs/train/mosaic-x3/weights/best.pt'], batch_size=32, imgsz=640, conf_thres=0.001, iou_thres=0.6, task=val, device=, workers=8, single_cls=False, augment=False, verbose=False, save_txt=False, save_hybrid=False, save_conf=False, save_json=False, project=yolov5\\runs\\val, name=mosaic-x3, exist_ok=False, half=False, dnn=False\n",
      "git: 'Blackwood\\dev\\glasgow-litter\\models\\yolov5\\yolov5' is not a git command. See 'git --help'.\n",
      "YOLOv5  2022-3-11 torch 1.8.2+cu111 CUDA:0 (NVIDIA GeForce RTX 3060, 12288MiB)\n",
      "\n",
      "Fusing layers... \n",
      "Model Summary: 213 layers, 7012822 parameters, 0 gradients, 15.8 GFLOPs\n",
      "\n",
      "\u001b[34m\u001b[1mval: \u001b[0mScanning 'C:\\Users\\Gary Blackwood\\dev\\glasgow-litter\\models\\yolov5\\yolov5\\..\\..\\..\\data\\models\\yolov5\\mosaic-x3\\valid\\labels' images and labels...:   0%|          | 0/244 [00:00<?, ?it/s]\n",
      "\u001b[34m\u001b[1mval: \u001b[0mScanning 'C:\\Users\\Gary Blackwood\\dev\\glasgow-litter\\models\\yolov5\\yolov5\\..\\..\\..\\data\\models\\yolov5\\mosaic-x3\\valid\\labels' images and labels...1 found, 0 missing, 0 empty, 0 corrupt:   0%|          | 1/244 [00:03<15:07,  3.73s/it]\n",
      "\u001b[34m\u001b[1mval: \u001b[0mScanning 'C:\\Users\\Gary Blackwood\\dev\\glasgow-litter\\models\\yolov5\\yolov5\\..\\..\\..\\data\\models\\yolov5\\mosaic-x3\\valid\\labels' images and labels...168 found, 0 missing, 0 empty, 0 corrupt:  69%|██████▉   | 168/244 [00:03<00:01, 61.79it/s]\n",
      "\u001b[34m\u001b[1mval: \u001b[0mScanning 'C:\\Users\\Gary Blackwood\\dev\\glasgow-litter\\models\\yolov5\\yolov5\\..\\..\\..\\data\\models\\yolov5\\mosaic-x3\\valid\\labels' images and labels...244 found, 0 missing, 0 empty, 0 corrupt: 100%|██████████| 244/244 [00:03<00:00, 62.85it/s]\n",
      "\u001b[34m\u001b[1mval: \u001b[0mWARNING: Cache directory C:\\Users\\Gary Blackwood\\dev\\glasgow-litter\\models\\yolov5\\yolov5\\..\\..\\..\\data\\models\\yolov5\\mosaic-x3\\valid is not writeable: [WinError 183] Cannot create a file when that file already exists: 'C:\\\\Users\\\\Gary Blackwood\\\\dev\\\\glasgow-litter\\\\models\\\\yolov5\\\\yolov5\\\\..\\\\..\\\\..\\\\data\\\\models\\\\yolov5\\\\mosaic-x3\\\\valid\\\\labels.cache.npy' -> 'C:\\\\Users\\\\Gary Blackwood\\\\dev\\\\glasgow-litter\\\\models\\\\yolov5\\\\yolov5\\\\..\\\\..\\\\..\\\\data\\\\models\\\\yolov5\\\\mosaic-x3\\\\valid\\\\labels.cache'\n",
      "\n",
      "               Class     Images     Labels          P          R     mAP@.5 mAP@.5:.95:   0%|          | 0/8 [00:00<?, ?it/s]\n",
      "               Class     Images     Labels          P          R     mAP@.5 mAP@.5:.95:  12%|█▎        | 1/8 [00:01<00:10,  1.43s/it]\n",
      "               Class     Images     Labels          P          R     mAP@.5 mAP@.5:.95:  25%|██▌       | 2/8 [00:01<00:05,  1.14it/s]\n",
      "               Class     Images     Labels          P          R     mAP@.5 mAP@.5:.95:  38%|███▊      | 3/8 [00:02<00:03,  1.46it/s]\n",
      "               Class     Images     Labels          P          R     mAP@.5 mAP@.5:.95:  50%|█████     | 4/8 [00:02<00:02,  1.76it/s]\n",
      "               Class     Images     Labels          P          R     mAP@.5 mAP@.5:.95:  62%|██████▎   | 5/8 [00:03<00:01,  2.16it/s]\n",
      "               Class     Images     Labels          P          R     mAP@.5 mAP@.5:.95:  75%|███████▌  | 6/8 [00:03<00:00,  2.48it/s]\n",
      "               Class     Images     Labels          P          R     mAP@.5 mAP@.5:.95:  88%|████████▊ | 7/8 [00:03<00:00,  2.73it/s]\n",
      "               Class     Images     Labels          P          R     mAP@.5 mAP@.5:.95: 100%|██████████| 8/8 [00:03<00:00,  3.27it/s]\n",
      "               Class     Images     Labels          P          R     mAP@.5 mAP@.5:.95: 100%|██████████| 8/8 [00:03<00:00,  2.11it/s]\n",
      "                 all        244        485      0.892      0.851        0.9      0.529\n",
      "Speed: 0.4ms pre-process, 6.9ms inference, 1.7ms NMS per image at shape (32, 3, 640, 640)\n",
      "True Positives | False Positives | False Negatives @ conf_thres=0.8 & iou_thres=0.6\n",
      "(array([        358]), array([         20]), array([        127]))\n",
      "Results saved to \u001b[1myolov5\\runs\\val\\mosaic-x3\u001b[0m\n"
     ]
    }
   ],
   "source": [
    "%%time\n",
    "!python yolov5/val.py --batch-size $batch_size --data cfg/mosaic-x3-data.yaml --weights yolov5/runs/train/mosaic-x3/weights/best.pt --name mosaic-x3"
   ]
  },
  {
   "cell_type": "code",
   "execution_count": null,
   "metadata": {},
   "outputs": [],
   "source": [
    "%%time\n",
    "!python yolov5/val.py --batch-size $batch_size --data cfg/unprocessed-data.yaml --weights yolov5/runs/train/unprocessed/weights/best.pt --name unprocessed"
   ]
  }
 ],
 "metadata": {
  "interpreter": {
   "hash": "cf27d97dcf4be97ac4b24b0958c44b40d000600328bb3db0f801b46df5aa5b85"
  },
  "kernelspec": {
   "display_name": "Python 3.9.6 64-bit ('venv': venv)",
   "language": "python",
   "name": "python3"
  },
  "language_info": {
   "codemirror_mode": {
    "name": "ipython",
    "version": 3
   },
   "file_extension": ".py",
   "mimetype": "text/x-python",
   "name": "python",
   "nbconvert_exporter": "python",
   "pygments_lexer": "ipython3",
   "version": "3.10.2"
  },
  "orig_nbformat": 4
 },
 "nbformat": 4,
 "nbformat_minor": 2
}
