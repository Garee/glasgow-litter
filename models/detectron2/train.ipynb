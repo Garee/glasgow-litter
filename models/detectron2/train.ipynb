{
 "cells": [
  {
   "cell_type": "markdown",
   "metadata": {},
   "source": [
    "# Train Faster RCNN Models\n",
    "\n",
    "This notebook can be used to train Faster RCNN models."
   ]
  },
  {
   "cell_type": "markdown",
   "metadata": {},
   "source": [
    "## Configuration"
   ]
  },
  {
   "cell_type": "code",
   "execution_count": 1,
   "metadata": {},
   "outputs": [],
   "source": [
    "starting_config = \"COCO-Detection/faster_rcnn_X_101_32x8d_FPN_3x.yaml\"\n",
    "data_dir = \"../../data/models/detectron2/no-augmentations\"\n",
    "output_dir = \"runs/train/no-augmentations\"\n",
    "train_data = \"train_data\"\n",
    "valid_data = \"valid_data\"\n",
    "test_data = \"test_data\"\n",
    "final_model_file = \"model_final.pth\"\n",
    "n_classes = 1 # litter\n",
    "batch_size_per_image = 16 # maximise for hardware\n",
    "images_per_batch = 4 # maximise for hardware\n",
    "learning_rate = 0.001\n",
    "warmup_iters = 1000\n",
    "iters = 1500\n",
    "eval_iters = 300\n",
    "steps = [] # (1000, 1500)\n",
    "confidence_threshold = 0.3"
   ]
  },
  {
   "cell_type": "markdown",
   "metadata": {},
   "source": [
    "# Detectron2 FRCNN Object Detection"
   ]
  },
  {
   "cell_type": "markdown",
   "metadata": {},
   "source": [
    "## Setup"
   ]
  },
  {
   "cell_type": "code",
   "execution_count": 2,
   "metadata": {},
   "outputs": [],
   "source": [
    "from detectron2.data.datasets import register_coco_instances\n",
    "from detectron2.utils.logger import setup_logger\n",
    "\n",
    "setup_logger()\n",
    "\n",
    "register_coco_instances(train_data, {}, f\"{data_dir}/train/_annotations.coco.json\", f\"{data_dir}/train\")\n",
    "register_coco_instances(valid_data, {}, f\"{data_dir}/valid/_annotations.coco.json\", f\"{data_dir}/valid\")\n",
    "register_coco_instances(test_data, {}, f\"{data_dir}/test/_annotations.coco.json\", f\"{data_dir}/test\")"
   ]
  },
  {
   "cell_type": "markdown",
   "metadata": {},
   "source": [
    "## Train"
   ]
  },
  {
   "cell_type": "code",
   "execution_count": null,
   "metadata": {},
   "outputs": [],
   "source": [
    "import os\n",
    "from detectron2.config import get_cfg\n",
    "from detectron2 import model_zoo\n",
    "from detectron2.engine import DefaultTrainer\n",
    "from detectron2.evaluation import COCOEvaluator\n",
    "\n",
    "class CocoTrainer(DefaultTrainer):\n",
    "\n",
    "  @classmethod\n",
    "  def build_evaluator(cls, cfg, dataset_name, output_folder=None):\n",
    "    os.makedirs(output_dir, exist_ok=True)\n",
    "    output_folder = output_dir\n",
    "    return COCOEvaluator(dataset_name, cfg, False, output_folder)\n",
    "\n",
    "cfg = get_cfg()\n",
    "cfg.merge_from_file(model_zoo.get_config_file(starting_config))\n",
    "cfg.OUTPUT_DIR = output_dir\n",
    "\n",
    "cfg.DATASETS.TRAIN = (train_data,)\n",
    "cfg.DATASETS.TEST = (valid_data,)\n",
    "cfg.DATALOADER.NUM_WORKERS = 1\n",
    "\n",
    "cfg.MODEL.WEIGHTS = model_zoo.get_checkpoint_url(starting_config)\n",
    "cfg.MODEL.ROI_HEADS.BATCH_SIZE_PER_IMAGE = batch_size_per_image\n",
    "cfg.MODEL.ROI_HEADS.NUM_CLASSES = n_classes\n",
    "\n",
    "cfg.SOLVER.IMS_PER_BATCH = images_per_batch\n",
    "cfg.SOLVER.BASE_LR = learning_rate\n",
    "cfg.SOLVER.WARMUP_ITERS = warmup_iters\n",
    "cfg.SOLVER.MAX_ITER = iters\n",
    "cfg.SOLVER.STEPS = steps\n",
    "\n",
    "cfg.TEST.EVAL_PERIOD = eval_iters\n",
    "\n",
    "os.makedirs(cfg.OUTPUT_DIR, exist_ok=True)\n",
    "trainer = CocoTrainer(cfg)\n",
    "trainer.resume_or_load(resume=False)\n",
    "trainer.train()"
   ]
  },
  {
   "cell_type": "markdown",
   "metadata": {},
   "source": [
    "## Evaluate"
   ]
  },
  {
   "cell_type": "code",
   "execution_count": null,
   "metadata": {},
   "outputs": [],
   "source": [
    "%load_ext tensorboard\n",
    "%tensorboard --logdir output"
   ]
  },
  {
   "cell_type": "code",
   "execution_count": null,
   "metadata": {},
   "outputs": [],
   "source": [
    "from detectron2.data import MetadataCatalog, build_detection_test_loader\n",
    "from detectron2.evaluation import COCOEvaluator, inference_on_dataset\n",
    "from detectron2.engine import DefaultPredictor\n",
    "\n",
    "cfg.MODEL.WEIGHTS = os.path.join(cfg.OUTPUT_DIR, final_model_file)\n",
    "cfg.MODEL.ROI_HEADS.SCORE_THRESH_TEST = confidence_threshold\n",
    "predictor = DefaultPredictor(cfg)\n",
    "evaluator = COCOEvaluator(test_data, cfg, False, output_dir=output_dir)\n",
    "val_loader = build_detection_test_loader(cfg, test_data)\n",
    "inference_on_dataset(trainer.model, val_loader, evaluator)"
   ]
  },
  {
   "cell_type": "markdown",
   "metadata": {},
   "source": [
    "## Visualize"
   ]
  },
  {
   "cell_type": "code",
   "execution_count": null,
   "metadata": {},
   "outputs": [],
   "source": [
    "import glob\n",
    "import cv2\n",
    "from detectron2.utils.visualizer import Visualizer\n",
    "\n",
    "cfg.DATASETS.TEST = (test_data, )\n",
    "cfg.MODEL.WEIGHTS = os.path.join(cfg.OUTPUT_DIR, final_model_file)\n",
    "cfg.MODEL.ROI_HEADS.SCORE_THRESH_TEST = confidence_threshold\n",
    "\n",
    "predictor = DefaultPredictor(cfg)\n",
    "test_metadata = MetadataCatalog.get(test_data)\n",
    "\n",
    "n_images = 3\n",
    "title = \"Faster RCNN Litter Detection\"\n",
    "\n",
    "for imageName in glob.glob(f\"{data_dir}/test/*jpg\")[:n_images]:\n",
    "  im = cv2.imread(imageName)\n",
    "  outputs = predictor(im)\n",
    "  v = Visualizer(im[:, :, ::-1], metadata=test_metadata)\n",
    "  out = v.draw_instance_predictions(outputs[\"instances\"].to(\"cpu\"))\n",
    "  img = out.get_image()[:, :, ::-1]\n",
    "  cv2.imshow(title, img)\n",
    "  cv2.waitKey(0)\n",
    "  cv2.destroyAllWindows()\n"
   ]
  }
 ],
 "metadata": {
  "interpreter": {
   "hash": "cf27d97dcf4be97ac4b24b0958c44b40d000600328bb3db0f801b46df5aa5b85"
  },
  "kernelspec": {
   "display_name": "Python 3.9.6 64-bit ('venv': venv)",
   "language": "python",
   "name": "python3"
  },
  "language_info": {
   "codemirror_mode": {
    "name": "ipython",
    "version": 3
   },
   "file_extension": ".py",
   "mimetype": "text/x-python",
   "name": "python",
   "nbconvert_exporter": "python",
   "pygments_lexer": "ipython3",
   "version": "3.9.6"
  },
  "orig_nbformat": 4
 },
 "nbformat": 4,
 "nbformat_minor": 2
}
